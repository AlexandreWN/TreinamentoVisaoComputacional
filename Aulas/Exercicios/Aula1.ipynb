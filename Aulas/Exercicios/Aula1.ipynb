{
 "cells": [
  {
   "cell_type": "code",
   "execution_count": null,
   "metadata": {},
   "outputs": [],
   "source": []
  }
 ],
 "metadata": {
  "kernelspec": {
   "display_name": "Python 3.10.6 64-bit",
   "language": "python",
   "name": "python3"
  },
  "language_info": {
   "name": "python",
   "version": "3.10.6"
  },
  "orig_nbformat": 4,
  "vscode": {
   "interpreter": {
    "hash": "999f2610e4c9814438a4711369b362e9bc8c4d8c0576f71fb6929a24464e6cb1"
   }
  }
 },
 "nbformat": 4,
 "nbformat_minor": 2
}
