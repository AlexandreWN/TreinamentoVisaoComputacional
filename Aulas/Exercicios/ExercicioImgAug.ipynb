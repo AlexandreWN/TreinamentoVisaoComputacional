{
 "cells": [
  {
   "cell_type": "code",
   "execution_count": 2,
   "metadata": {},
   "outputs": [],
   "source": [
    "import numpy as np\n",
    "import keras\n",
    "\n",
    "class DataGenerator(keras.utils.Sequence):\n",
    "    \n",
    "    def __init__(self, list_IDs, labels, batch_size=32, dim=(32,32,32), n_channels=1, n_classes=10, shuffle=True):\n",
    "        self.dim = dim\n",
    "        self.batch_size = batch_size\n",
    "        self.labels = labels\n",
    "        self.list_IDs = list_IDs\n",
    "        self.n_channels = n_channels\n",
    "        self.n_classes = n_classes\n",
    "        self.shuffle = shuffle\n",
    "        self.on_epoch_end()\n",
    "\n",
    "    def __len__(self):\n",
    "        return int(np.floor(len(self.list_IDs) / self.batch_size))\n",
    "\n",
    "    def __getitem__(self, index):\n",
    "        indexes = self.indexes[index*self.batch_size:(index+1)*self.batch_size]\n",
    "\n",
    "        list_IDs_temp = [self.list_IDs[k] for k in indexes]\n",
    "\n",
    "        X, y = self.__data_generation(list_IDs_temp)\n",
    "\n",
    "        return X, y\n",
    "\n",
    "    def on_epoch_end(self):\n",
    "        self.indexes = np.arange(len(self.list_IDs))\n",
    "        if self.shuffle == True:\n",
    "            np.random.shuffle(self.indexes)\n",
    "\n",
    "    def __data_generation(self, list_IDs_temp):\n",
    "        X = np.empty((self.batch_size, *self.dim, self.n_channels))\n",
    "        y = np.empty((self.batch_size), dtype=int)\n",
    "\n",
    "        # Generate data\n",
    "        for i, ID in enumerate(list_IDs_temp):\n",
    "            # Store sample\n",
    "            X[i,] = np.load('data/' + ID + '.npy')\n",
    "\n",
    "            # Store class\n",
    "            y[i] = self.labels[ID]\n",
    "\n",
    "        return X, keras.utils.to_categorical(y, num_classes=self.n_classes)"
   ]
  },
  {
   "cell_type": "code",
   "execution_count": 21,
   "metadata": {},
   "outputs": [
    {
     "name": "stdout",
     "output_type": "stream",
     "text": [
      "0       raccoon-17.jpg\n",
      "1       raccoon-11.jpg\n",
      "2       raccoon-63.jpg\n",
      "3       raccoon-63.jpg\n",
      "4       raccoon-60.jpg\n",
      "            ...       \n",
      "168    raccoon-137.jpg\n",
      "169    raccoon-171.jpg\n",
      "170    raccoon-190.jpg\n",
      "171     raccoon-22.jpg\n",
      "172    raccoon-152.jpg\n",
      "Name: filename, Length: 173, dtype: object\n"
     ]
    }
   ],
   "source": [
    "from turtle import width\n",
    "import numpy as np\n",
    "import pandas as pd\n",
    "from keras.models import Sequential\n",
    "\n",
    "# Load entire dataset\n",
    "\n",
    "data =  pd.read_csv(r\"C:\\Users\\nia1ct\\Desktop\\repositorio\\TreinamentoVisaoComputacional\\Docs\\PDF\\DeepLearning\\dataset\\obj_detection\\train_labels.csv\")\n",
    "\n",
    "filename = data['filename']\n",
    "width = data['width']\n",
    "height = data['height']\n",
    "xmin = data['xmin']\n",
    "ymin = data['ymin']\n",
    "xmax = data['xmax']\n",
    "ymax = data['ymax']\n",
    "\n",
    "\n"
   ]
  }
 ],
 "metadata": {
  "kernelspec": {
   "display_name": "Python 3.10.6 ('.venv': venv)",
   "language": "python",
   "name": "python3"
  },
  "language_info": {
   "codemirror_mode": {
    "name": "ipython",
    "version": 3
   },
   "file_extension": ".py",
   "mimetype": "text/x-python",
   "name": "python",
   "nbconvert_exporter": "python",
   "pygments_lexer": "ipython3",
   "version": "3.10.6"
  },
  "orig_nbformat": 4,
  "vscode": {
   "interpreter": {
    "hash": "bdc18bb7afb90d7867e0fcbcec01a743c771081017cb490919d58d9b153a17c7"
   }
  }
 },
 "nbformat": 4,
 "nbformat_minor": 2
}
