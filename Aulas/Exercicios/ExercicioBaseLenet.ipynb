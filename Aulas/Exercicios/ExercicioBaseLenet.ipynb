{
 "cells": [
  {
   "cell_type": "code",
   "execution_count": 8,
   "metadata": {},
   "outputs": [],
   "source": [
    "import numpy as np\n",
    "from sklearn.neural_network import MLPClassifier\n",
    "from tensorflow.keras.datasets import mnist\n",
    "from sklearn.svm import SVC\n",
    "from sklearn.ensemble import RandomForestClassifier\n",
    "from sklearn.metrics import plot_confusion_matrix\n",
    "\n",
    "import matplotlib.pyplot as plt\n",
    "\n",
    "from tensorflow.keras.layers import Dense, Conv2D\n",
    "from tensorflow.keras.layers import ReLU\n",
    "from tensorflow.keras.layers import MaxPooling2D\n",
    "from tensorflow.keras.layers import Softmax\n",
    "from tensorflow.keras.models import Sequential\n",
    "from tensorflow.keras.layers import Flatten"
   ]
  },
  {
   "cell_type": "code",
   "execution_count": 9,
   "metadata": {},
   "outputs": [],
   "source": [
    "num_classes = 10\n",
    "input_shape = (28, 28)\n",
    "\n",
    "\n",
    "with np.load(\"../../Docs/PDF/DeepLearning/dataset/mnist.npz\") as data:\n",
    "  x_train = data['x_train']\n",
    "  y_train = data['y_train']\n",
    "  x_test = data['x_test']\n",
    "  y_test = data['y_test']"
   ]
  },
  {
   "cell_type": "code",
   "execution_count": 10,
   "metadata": {},
   "outputs": [],
   "source": [
    "# Normalize\n",
    "x_train = x_train.astype(\"float32\") / 255\n",
    "x_test = x_test.astype(\"float32\") / 255"
   ]
  },
  {
   "cell_type": "code",
   "execution_count": 11,
   "metadata": {},
   "outputs": [
    {
     "name": "stdout",
     "output_type": "stream",
     "text": [
      "Model: \"sequential_1\"\n",
      "_________________________________________________________________\n",
      " Layer (type)                Output Shape              Param #   \n",
      "=================================================================\n",
      " conv2d_2 (Conv2D)           (None, 28, 28, 16)        160       \n",
      "                                                                 \n",
      " re_lu_3 (ReLU)              (None, 28, 28, 16)        0         \n",
      "                                                                 \n",
      " max_pooling2d_2 (MaxPooling  (None, 14, 14, 16)       0         \n",
      " 2D)                                                             \n",
      "                                                                 \n",
      " conv2d_3 (Conv2D)           (None, 14, 14, 64)        9280      \n",
      "                                                                 \n",
      " re_lu_4 (ReLU)              (None, 14, 14, 64)        0         \n",
      "                                                                 \n",
      " max_pooling2d_3 (MaxPooling  (None, 7, 7, 64)         0         \n",
      " 2D)                                                             \n",
      "                                                                 \n",
      " flatten_1 (Flatten)         (None, 3136)              0         \n",
      "                                                                 \n",
      " dense_2 (Dense)             (None, 300)               941100    \n",
      "                                                                 \n",
      " re_lu_5 (ReLU)              (None, 300)               0         \n",
      "                                                                 \n",
      " dense_3 (Dense)             (None, 10)                3010      \n",
      "                                                                 \n",
      " softmax_1 (Softmax)         (None, 10)                0         \n",
      "                                                                 \n",
      "=================================================================\n",
      "Total params: 953,550\n",
      "Trainable params: 953,550\n",
      "Non-trainable params: 0\n",
      "_________________________________________________________________\n"
     ]
    }
   ],
   "source": [
    "class Sequentia:\n",
    "    @staticmethod\n",
    "    def build(inputs=(28, 28, 1), outputs=10):\n",
    "        model = Sequential()\n",
    "\n",
    "        f1, f2 = [16, 64]\n",
    "        # First block\n",
    "        model.add(Conv2D(f1, (3, 3), input_shape=inputs, padding=\"same\"))\n",
    "        model.add(ReLU())\n",
    "        model.add(MaxPooling2D(pool_size=(2, 2), strides=(2, 2)))\n",
    "\n",
    "        # Second block\n",
    "        model.add(Conv2D(f2, (3, 3), padding=\"same\"))\n",
    "        model.add(ReLU())\n",
    "        model.add(MaxPooling2D())\n",
    "\n",
    "        # FC\n",
    "        model.add(Flatten())\n",
    "        model.add(Dense(300))\n",
    "        model.add(ReLU())\n",
    "\n",
    "        model.add(Dense(outputs))\n",
    "\n",
    "        # lastly, define the soft-max classifier\n",
    "        model.add(Softmax())\n",
    "\n",
    "        return model\n",
    "\n",
    "model = Sequentia.build()\n",
    "model.summary()\n",
    "        "
   ]
  },
  {
   "cell_type": "code",
   "execution_count": 16,
   "metadata": {},
   "outputs": [
    {
     "name": "stdout",
     "output_type": "stream",
     "text": [
      "Epoch 1/10\n",
      "1875/1875 [==============================] - 49s 26ms/step - loss: 0.1225 - sparse_top_k_categorical_accuracy: 0.9976\n",
      "Epoch 2/10\n",
      "1875/1875 [==============================] - 55s 29ms/step - loss: 0.0414 - sparse_top_k_categorical_accuracy: 0.9999\n",
      "Epoch 3/10\n",
      "1875/1875 [==============================] - 60s 32ms/step - loss: 0.0262 - sparse_top_k_categorical_accuracy: 1.0000\n",
      "Epoch 4/10\n",
      "1875/1875 [==============================] - 66s 35ms/step - loss: 0.0197 - sparse_top_k_categorical_accuracy: 1.0000\n",
      "Epoch 5/10\n",
      "1875/1875 [==============================] - 64s 34ms/step - loss: 0.0142 - sparse_top_k_categorical_accuracy: 1.0000\n",
      "Epoch 6/10\n",
      "1875/1875 [==============================] - 63s 33ms/step - loss: 0.0106 - sparse_top_k_categorical_accuracy: 1.0000\n",
      "Epoch 7/10\n",
      "1875/1875 [==============================] - 61s 33ms/step - loss: 0.0078 - sparse_top_k_categorical_accuracy: 1.0000\n",
      "Epoch 8/10\n",
      "1875/1875 [==============================] - 63s 34ms/step - loss: 0.0081 - sparse_top_k_categorical_accuracy: 1.0000\n",
      "Epoch 9/10\n",
      "1875/1875 [==============================] - 64s 34ms/step - loss: 0.0060 - sparse_top_k_categorical_accuracy: 1.0000\n",
      "Epoch 10/10\n",
      "1875/1875 [==============================] - 61s 33ms/step - loss: 0.0064 - sparse_top_k_categorical_accuracy: 1.0000\n"
     ]
    },
    {
     "data": {
      "text/plain": [
       "<keras.callbacks.History at 0x17b161aed10>"
      ]
     },
     "execution_count": 16,
     "metadata": {},
     "output_type": "execute_result"
    }
   ],
   "source": [
    "from tensorflow.keras.optimizers import Adam\n",
    "from tensorflow.keras.losses import SparseCategoricalCrossentropy\n",
    "from tensorflow.keras.metrics import SparseTopKCategoricalAccuracy\n",
    "\n",
    "optimizer = Adam(0.001)\n",
    "\n",
    "model.compile(\n",
    "    optimizer = optimizer,\n",
    "    loss=SparseCategoricalCrossentropy(),\n",
    "    metrics=[SparseTopKCategoricalAccuracy()],\n",
    ")\n",
    "epochs = 10\n",
    "model.fit(x_train, y_train, epochs=epochs, verbose=1)"
   ]
  },
  {
   "cell_type": "code",
   "execution_count": 17,
   "metadata": {},
   "outputs": [
    {
     "name": "stdout",
     "output_type": "stream",
     "text": [
      "Model: \"sequential_1\"\n",
      "_________________________________________________________________\n",
      " Layer (type)                Output Shape              Param #   \n",
      "=================================================================\n",
      " conv2d_2 (Conv2D)           (None, 28, 28, 16)        160       \n",
      "                                                                 \n",
      " re_lu_3 (ReLU)              (None, 28, 28, 16)        0         \n",
      "                                                                 \n",
      " max_pooling2d_2 (MaxPooling  (None, 14, 14, 16)       0         \n",
      " 2D)                                                             \n",
      "                                                                 \n",
      " conv2d_3 (Conv2D)           (None, 14, 14, 64)        9280      \n",
      "                                                                 \n",
      " re_lu_4 (ReLU)              (None, 14, 14, 64)        0         \n",
      "                                                                 \n",
      " max_pooling2d_3 (MaxPooling  (None, 7, 7, 64)         0         \n",
      " 2D)                                                             \n",
      "                                                                 \n",
      " flatten_1 (Flatten)         (None, 3136)              0         \n",
      "                                                                 \n",
      " dense_2 (Dense)             (None, 300)               941100    \n",
      "                                                                 \n",
      " re_lu_5 (ReLU)              (None, 300)               0         \n",
      "                                                                 \n",
      " dense_3 (Dense)             (None, 10)                3010      \n",
      "                                                                 \n",
      " softmax_1 (Softmax)         (None, 10)                0         \n",
      "                                                                 \n",
      "=================================================================\n",
      "Total params: 953,550\n",
      "Trainable params: 953,550\n",
      "Non-trainable params: 0\n",
      "_________________________________________________________________\n"
     ]
    }
   ],
   "source": [
    "model.save(\"./testeets.h5\")\n",
    "from tensorflow.keras.models import load_model\n",
    "m = load_model(\"./testeets.h5\") #só usar no lugar do model para rodar o teste\n",
    "m.summary()"
   ]
  },
  {
   "cell_type": "code",
   "execution_count": 19,
   "metadata": {},
   "outputs": [
    {
     "name": "stdout",
     "output_type": "stream",
     "text": [
      "313/313 [==============================] - 2s 6ms/step\n",
      "Accuracy : 99.15%\n"
     ]
    }
   ],
   "source": [
    "def score_accuracy(model, x_test, y_test):\n",
    "    preds = model.predict(x_test)\n",
    "    preds = np.argmax(preds, axis=1)\n",
    "    accuracy = np.sum(y_test == preds)/len(y_test)*100\n",
    "    print(f\"Accuracy : {accuracy}%\")\n",
    "\n",
    "score_accuracy(model, x_test, y_test)"
   ]
  }
 ],
 "metadata": {
  "kernelspec": {
   "display_name": "Python 3.10.6 ('.venv': venv)",
   "language": "python",
   "name": "python3"
  },
  "language_info": {
   "codemirror_mode": {
    "name": "ipython",
    "version": 3
   },
   "file_extension": ".py",
   "mimetype": "text/x-python",
   "name": "python",
   "nbconvert_exporter": "python",
   "pygments_lexer": "ipython3",
   "version": "3.10.6"
  },
  "orig_nbformat": 4,
  "vscode": {
   "interpreter": {
    "hash": "bdc18bb7afb90d7867e0fcbcec01a743c771081017cb490919d58d9b153a17c7"
   }
  }
 },
 "nbformat": 4,
 "nbformat_minor": 2
}
