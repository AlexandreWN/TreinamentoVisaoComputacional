{
 "cells": [
  {
   "cell_type": "code",
   "execution_count": 17,
   "metadata": {},
   "outputs": [
    {
     "name": "stdout",
     "output_type": "stream",
     "text": [
      "1342425094784\n",
      "1342425094784\n"
     ]
    }
   ],
   "source": [
    "a = [1,2,3,4]\n",
    "b = a\n",
    "\n",
    "a += [5]\n",
    "\n",
    "print(id(b))\n",
    "print(id(a))"
   ]
  }
 ],
 "metadata": {
  "kernelspec": {
   "display_name": "Python 3.10.6 64-bit",
   "language": "python",
   "name": "python3"
  },
  "language_info": {
   "codemirror_mode": {
    "name": "ipython",
    "version": 3
   },
   "file_extension": ".py",
   "mimetype": "text/x-python",
   "name": "python",
   "nbconvert_exporter": "python",
   "pygments_lexer": "ipython3",
   "version": "3.10.6"
  },
  "orig_nbformat": 4,
  "vscode": {
   "interpreter": {
    "hash": "999f2610e4c9814438a4711369b362e9bc8c4d8c0576f71fb6929a24464e6cb1"
   }
  }
 },
 "nbformat": 4,
 "nbformat_minor": 2
}
