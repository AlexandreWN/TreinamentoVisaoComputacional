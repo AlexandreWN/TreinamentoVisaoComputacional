{
 "cells": [
  {
   "cell_type": "code",
   "execution_count": 36,
   "metadata": {},
   "outputs": [
    {
     "name": "stdout",
     "output_type": "stream",
     "text": [
      "[1, 2, 3, 4, 5]\n"
     ]
    }
   ],
   "source": [
    "a = [1,2,3,4]\n",
    "b = a\n",
    "\n",
    "a += [5]\n",
    "\n",
    "print(b)\n"
   ]
  },
  {
   "cell_type": "code",
   "execution_count": 37,
   "metadata": {},
   "outputs": [
    {
     "name": "stdout",
     "output_type": "stream",
     "text": [
      "True\n",
      "1342425168768\n",
      "1342425168768\n",
      "True\n",
      "True\n",
      "False\n"
     ]
    }
   ],
   "source": [
    "print(b is a)\n",
    "print(id(b))\n",
    "print(id(a))\n",
    "\n",
    "print(a == b)\n",
    "print(a is b)\n",
    "\n",
    "print(a is not b)"
   ]
  },
  {
   "cell_type": "code",
   "execution_count": 39,
   "metadata": {},
   "outputs": [
    {
     "name": "stdout",
     "output_type": "stream",
     "text": [
      "City(name='Tokyo', country='JP', pop=36.933, latlong=(35.689722, 139.691667))\n",
      "Tokyo\n"
     ]
    }
   ],
   "source": [
    "from collections import namedtuple\n",
    "\n",
    "City = namedtuple(\"City\", \"name country pop latlong\")\n",
    "tokyo = City(name = \"Tokyo\", country=\"JP\", pop=36.933, latlong=(35.689722, 139.691667))\n",
    "\n",
    "print(tokyo)\n",
    "print(tokyo.name)\n",
    "\n"
   ]
  },
  {
   "cell_type": "code",
   "execution_count": 51,
   "metadata": {},
   "outputs": [
    {
     "name": "stdout",
     "output_type": "stream",
     "text": [
      "5 <class '__main__.A'>\n",
      "3\n",
      "2\n"
     ]
    }
   ],
   "source": [
    "class A:\n",
    "    def __init__(self, other):\n",
    "        self._value = other\n",
    "    \n",
    "    def __add__(self, other):\n",
    "        return self._value - other\n",
    "    \n",
    "    def __iadd__(self, other):\n",
    "        self._value = self._value - other\n",
    "        return self\n",
    "   \n",
    "    def __repr__(self):\n",
    "        return str(self._value)\n",
    "\n",
    "teste = A(5)\n",
    "\n",
    "print(teste, type(teste))\n",
    "print(teste + 2)\n",
    "\n",
    "teste += 3\n",
    "\n",
    "print(teste)"
   ]
  }
 ],
 "metadata": {
  "kernelspec": {
   "display_name": "Python 3.10.6 64-bit",
   "language": "python",
   "name": "python3"
  },
  "language_info": {
   "codemirror_mode": {
    "name": "ipython",
    "version": 3
   },
   "file_extension": ".py",
   "mimetype": "text/x-python",
   "name": "python",
   "nbconvert_exporter": "python",
   "pygments_lexer": "ipython3",
   "version": "3.10.6"
  },
  "orig_nbformat": 4,
  "vscode": {
   "interpreter": {
    "hash": "999f2610e4c9814438a4711369b362e9bc8c4d8c0576f71fb6929a24464e6cb1"
   }
  }
 },
 "nbformat": 4,
 "nbformat_minor": 2
}
