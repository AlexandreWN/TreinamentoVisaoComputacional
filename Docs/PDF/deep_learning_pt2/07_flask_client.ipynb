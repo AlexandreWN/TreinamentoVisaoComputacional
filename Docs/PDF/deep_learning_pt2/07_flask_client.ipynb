{
 "cells": [
  {
   "cell_type": "code",
   "execution_count": 9,
   "id": "forbidden-integer",
   "metadata": {},
   "outputs": [],
   "source": [
    "import base64\n",
    "import json\n",
    "import os\n",
    "\n",
    "import cv2\n",
    "import numpy as np\n",
    "from flask import Flask, request\n",
    "from gevent.pywsgi import WSGIServer\n",
    "import requests\n",
    "from imutils import paths\n"
   ]
  },
  {
   "cell_type": "markdown",
   "id": "threatened-choir",
   "metadata": {},
   "source": [
    "## Base64"
   ]
  },
  {
   "cell_type": "code",
   "execution_count": 10,
   "id": "intensive-warehouse",
   "metadata": {},
   "outputs": [
    {
     "name": "stderr",
     "output_type": "stream",
     "text": [
      "C:\\Users\\nia1ct\\AppData\\Local\\Temp\\ipykernel_20276\\3461675267.py:5: DeprecationWarning: tostring() is deprecated. Use tobytes() instead.\n",
      "  jpg_array = cv2.imencode(\".bmp\", image)[1].tostring()\n"
     ]
    }
   ],
   "source": [
    "image_paths = paths.list_images(\"./nose_dataset\")\n",
    "\n",
    "for fname in image_paths:\n",
    "    image = cv2.imread(fname)\n",
    "    jpg_array = cv2.imencode(\".bmp\", image)[1].tostring()\n",
    "    jpg_base64 = base64.b64encode(jpg_array).decode(\"ascii\")\n",
    "    json_dict = {\"image\": jpg_base64}\n",
    "\n",
    "    res = requests.post('http://127.0.0.1:5000/image-64', json=json_dict)\n",
    "\n",
    "    if res.status_code == 200:\n",
    "        print(res.json())"
   ]
  },
  {
   "cell_type": "markdown",
   "id": "cultural-hello",
   "metadata": {},
   "source": [
    "## Arquivo binário"
   ]
  },
  {
   "cell_type": "code",
   "execution_count": null,
   "id": "brilliant-prague",
   "metadata": {},
   "outputs": [],
   "source": [
    "image_paths = paths.list_images(\"./nose_dataset\")\n",
    "\n",
    "for fname in image_paths:\n",
    "    image = open(fname, \"rb\")\n",
    "    ext = os.path.splitext(fname)[1].replace(\".\", \"\")\n",
    "    files = {\n",
    "        \"image\": (os.path.basename(fname), image, f\"image/{ext}\")\n",
    "    }\n",
    "    res = requests.post('http://127.0.0.1:5000/image-bin', files=files)\n",
    "\n",
    "    if res.status_code == 200:\n",
    "        print(res.json())\n"
   ]
  },
  {
   "cell_type": "code",
   "execution_count": null,
   "id": "absolute-favor",
   "metadata": {},
   "outputs": [],
   "source": []
  }
 ],
 "metadata": {
  "kernelspec": {
   "display_name": "Python 3.10.6 ('.venv': venv)",
   "language": "python",
   "name": "python3"
  },
  "language_info": {
   "codemirror_mode": {
    "name": "ipython",
    "version": 3
   },
   "file_extension": ".py",
   "mimetype": "text/x-python",
   "name": "python",
   "nbconvert_exporter": "python",
   "pygments_lexer": "ipython3",
   "version": "3.10.6"
  },
  "vscode": {
   "interpreter": {
    "hash": "bdc18bb7afb90d7867e0fcbcec01a743c771081017cb490919d58d9b153a17c7"
   }
  }
 },
 "nbformat": 4,
 "nbformat_minor": 5
}
