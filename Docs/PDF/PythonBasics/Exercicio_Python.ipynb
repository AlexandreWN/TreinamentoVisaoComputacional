{
 "cells": [
  {
   "cell_type": "markdown",
   "id": "reverse-absorption",
   "metadata": {},
   "source": [
    "# Exercício Python\n",
    "\n",
    "----------------------\n",
    "\n",
    "#### Parte 1: \n",
    "\n",
    "Criar uma classe **FolderMonitor** para monitorar arquivos adicionados dentro de uma pasta `src`. \n",
    "Quando um arquivo novo for adicionado, o mesmo será movido para uma pasta `dest`.\n",
    "\n",
    "Cada pedaço do programa terá requisitos específicos a serem cumpridos.\n",
    "\n",
    "Todas as iterações precisam apresentar mensagens informando o usuário de erros, ou operações bem sucedidas.\n",
    "Utilizar o comando `input()` do python para iteragir com o usuário. \n",
    "\n",
    "\n",
    "**Pode Utilizar qualquer IDE de sua preferência**\n",
    "\n",
    "\n",
    "O ideal é utilizar os conhecimentos aprendidos neste treinamento.\n",
    " * Threads\n",
    " * Encapsulamento\n",
    " * Classes em Python\n",
    " * Exceptions\n",
    " * bibliotecas python\n",
    "\n",
    "\n",
    "#### Parte 2: \n",
    "\n",
    "O programa deverá ser transformado em um executável (único árquivo). Que deverá ser controlado por console.\n"
   ]
  },
  {
   "cell_type": "markdown",
   "id": "fantastic-discount",
   "metadata": {},
   "source": [
    "#### Import some libs\n"
   ]
  },
  {
   "cell_type": "code",
   "execution_count": 42,
   "id": "worth-simpson",
   "metadata": {},
   "outputs": [],
   "source": [
    "import os\n",
    "import glob\n",
    "import time\n",
    "import shutil\n",
    "from threading import Thread"
   ]
  },
  {
   "cell_type": "markdown",
   "id": "proper-plant",
   "metadata": {},
   "source": [
    "----------\n",
    "Criar uma Exception Customizada caso a Pasta nao existir\n"
   ]
  },
  {
   "cell_type": "code",
   "execution_count": 43,
   "id": "twenty-coaching",
   "metadata": {},
   "outputs": [],
   "source": [
    "class Folder404Exception(Exception):\n",
    "    def __init__(self, folder, message=\"Pasta não existe e você não quis criar\"):\n",
    "        self.folder = folder\n",
    "        self.message = message\n",
    "        super().__init__(self.message)\n",
    "\n",
    "    def __str__(self):\n",
    "        return f\"{self.folder} -> {self.message}\"\n",
    "\n",
    "class FolderExistException(Exception):\n",
    "    def __init__(self, folder, message=\"A pasta ja existe\"):\n",
    "        self.folder = folder\n",
    "        self.message = message\n",
    "        super().__init__(self.message)\n",
    "\n",
    "    def __str__(self):\n",
    "        return f\"{self.folder} -> {self.message}\""
   ]
  },
  {
   "cell_type": "markdown",
   "id": "national-wheel",
   "metadata": {},
   "source": [
    "----------\n",
    "Função para perguntar diretório da pasta à ser monitorada\n",
    "\n",
    "Requisitos:\n",
    " * Caso a pasta não exsistir, perguntar se deseja criar a pasta ou não?\n",
    " * Mensagens para usuário"
   ]
  },
  {
   "cell_type": "code",
   "execution_count": 44,
   "id": "changed-value",
   "metadata": {},
   "outputs": [],
   "source": [
    "def _set_src_folder():\n",
    "    src = str(input(\"Digite o caminho da pasta src: \"))\n",
    "    if not(os.path.exists(src)):\n",
    "        op = int(input(\"Gostaria de criar essa pasta? (1 para sim\\n2 para não)\"))\n",
    "        if(op == 1):\n",
    "            os.mkdir(src)\n",
    "        else:\n",
    "            raise Folder404Exception(src)\n",
    "    else:\n",
    "        return src\n",
    "\n",
    "\n",
    "src = _set_src_folder()"
   ]
  },
  {
   "cell_type": "markdown",
   "id": "stylish-politics",
   "metadata": {},
   "source": [
    "----------\n",
    "Função para perguntar o diretório da pasta destino\n",
    "\n",
    "\n",
    "Requisitos:\n",
    " * Caso a pasta não exsistir, perguntar se deseja criar a pasta ou não?\n",
    " * Mensagens para usuário"
   ]
  },
  {
   "cell_type": "code",
   "execution_count": 45,
   "id": "opponent-greek",
   "metadata": {},
   "outputs": [],
   "source": [
    "def _set_dst_folder():\n",
    "    dst = str(input(\"Digite o caminho da pasta dst: \"))\n",
    "    if not(os.path.exists(dst)):\n",
    "        op = int(input(\"Gostaria de criar essa pasta? (1 para sim\\n2 para não)\"))\n",
    "        if(op == 1):\n",
    "            os.mkdir(dst)\n",
    "        else:\n",
    "            raise Folder404Exception(dst)\n",
    "    else:\n",
    "        return dst\n",
    "\n",
    "dst = _set_dst_folder()"
   ]
  },
  {
   "cell_type": "markdown",
   "id": "oriented-tourist",
   "metadata": {},
   "source": [
    "----------------\n",
    "**Classe FolderMonitor** para realizar o monitoramento da Pasta\n",
    "\n",
    "Requisitos:\n",
    " * Fazer o monitoramento da pasta em uma Thread.\n",
    " * Opção para alterar o valor da pasta destino dentro da classe. (@property, @property.setter)\n",
    "     * Levantar Exceção caso a pasta não exista.\n",
    " "
   ]
  },
  {
   "cell_type": "code",
   "execution_count": 46,
   "id": "subsequent-eligibility",
   "metadata": {},
   "outputs": [],
   "source": [
    "class FolderMonitor:\n",
    "    def __init__(self, folder_path, dst_folder):\n",
    "        self.folder_path = folder_path\n",
    "        self.dst_folder = dst_folder\n",
    "        \n",
    "        self.continua = True\n",
    "        \n",
    "        t1 = Thread(target=self.monitor, args=())\n",
    "        t1.start()\n",
    "\n",
    "    def monitor(self):\n",
    "        while self.continua:\n",
    "            print(\"inicio\")\n",
    "            for fname in glob.glob(self.folder_path + \"/*\"):\n",
    "                print(fname)\n",
    "                shutil.copy(os.path.join(src,fname), self.dst_folder)\n",
    "                os.remove(fname)\n",
    "            time.sleep(1)\n",
    "        print(\"sai\")\n",
    "\n",
    "    def stop(self):\n",
    "        self.continua = False\n"
   ]
  },
  {
   "cell_type": "markdown",
   "id": "rational-laser",
   "metadata": {},
   "source": [
    "----------\n",
    "**Monitorando**\n",
    "\n",
    "Requisitos:\n",
    "   * Usuário pode utilizar o comando `sair` para encerrar o monitoramento\n",
    "   * Usuário pode utilizar um comando para alterar o caminho da pasta destino em durante à execução"
   ]
  },
  {
   "cell_type": "code",
   "execution_count": 47,
   "id": "underlying-serial",
   "metadata": {},
   "outputs": [
    {
     "name": "stdout",
     "output_type": "stream",
     "text": [
      "C:\\Users\\nia1ct\\Desktop\\src C:\\Users\\nia1ct\\Desktop\\dst\n",
      "inicio\n",
      "monitorando...\n"
     ]
    }
   ],
   "source": [
    "print(src, dst)\n",
    "folder_monitor = FolderMonitor(src, dst)\n",
    "\n",
    "\n",
    "print(\"monitorando...\")"
   ]
  },
  {
   "cell_type": "code",
   "execution_count": null,
   "id": "provincial-container",
   "metadata": {},
   "outputs": [],
   "source": []
  },
  {
   "cell_type": "code",
   "execution_count": null,
   "id": "metropolitan-girlfriend",
   "metadata": {},
   "outputs": [],
   "source": []
  },
  {
   "cell_type": "code",
   "execution_count": null,
   "id": "sealed-lodging",
   "metadata": {},
   "outputs": [],
   "source": []
  }
 ],
 "metadata": {
  "kernelspec": {
   "display_name": "Python 3.10.6 ('.venv': venv)",
   "language": "python",
   "name": "python3"
  },
  "language_info": {
   "codemirror_mode": {
    "name": "ipython",
    "version": 3
   },
   "file_extension": ".py",
   "mimetype": "text/x-python",
   "name": "python",
   "nbconvert_exporter": "python",
   "pygments_lexer": "ipython3",
   "version": "3.10.6"
  },
  "vscode": {
   "interpreter": {
    "hash": "bdc18bb7afb90d7867e0fcbcec01a743c771081017cb490919d58d9b153a17c7"
   }
  }
 },
 "nbformat": 4,
 "nbformat_minor": 5
}
